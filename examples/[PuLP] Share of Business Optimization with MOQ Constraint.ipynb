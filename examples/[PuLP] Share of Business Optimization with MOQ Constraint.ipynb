{
 "cells": [
  {
   "cell_type": "code",
   "execution_count": 1,
   "id": "0859c861",
   "metadata": {
    "ExecuteTime": {
     "end_time": "2025-09-29T11:01:14.614173Z",
     "start_time": "2025-09-29T11:01:14.596661Z"
    }
   },
   "outputs": [],
   "source": [
    "# the copywright author is added, which is notebook specific\n",
    "# for more information on codeowners and details, check CODEOWNERS\n",
    "__copyright__ = \"Copywright © 2025 Debmalya Pramanik (ZenithClown)\""
   ]
  },
  {
   "cell_type": "markdown",
   "id": "a7b08b7e",
   "metadata": {},
   "source": [
    "<div align = \"center\">\n",
    "\n",
    "# Basic Concepts & Usage of `NetworkX`\n",
    "\n",
    "</div>\n",
    "\n",
    "A *jupyter notebook* file exploring the optimization of share of business across plant-vendor combination with different constraints (MOQ, pack size, min. order, capacity) to meet the demand at a plant while minimizing the overall cost and time. Typically, this can be done using various optimization libaries as explained below."
   ]
  },
  {
   "cell_type": "code",
   "execution_count": 2,
   "id": "46f6bc60",
   "metadata": {
    "ExecuteTime": {
     "end_time": "2025-09-29T11:01:14.706883Z",
     "start_time": "2025-09-29T11:01:14.617291Z"
    }
   },
   "outputs": [],
   "source": [
    "import os   # miscellaneous os interfaces\n",
    "import sys  # configuring python runtime environment\n",
    "import json # json, i.e., dict based object manipulation\n",
    "import math # basic mathematical operations, etc.\n",
    "import yaml # file for manipulation of yaml file, as dict"
   ]
  },
  {
   "cell_type": "code",
   "execution_count": 3,
   "id": "67989300",
   "metadata": {
    "ExecuteTime": {
     "end_time": "2025-09-29T11:01:14.721809Z",
     "start_time": "2025-09-29T11:01:14.710898Z"
    }
   },
   "outputs": [],
   "source": [
    "import random # generate random numbers for poc development"
   ]
  },
  {
   "cell_type": "code",
   "execution_count": 4,
   "id": "8ddc2671",
   "metadata": {
    "ExecuteTime": {
     "end_time": "2025-09-29T11:01:15.034883Z",
     "start_time": "2025-09-29T11:01:14.731459Z"
    }
   },
   "outputs": [],
   "source": [
    "from typing import Iterable\n",
    "from uuid import uuid4 as UUID4\n",
    "from tqdm.auto import tqdm as TQ"
   ]
  },
  {
   "cell_type": "markdown",
   "id": "94228ca5",
   "metadata": {},
   "source": [
    "### Module for Complex Network\n",
    "\n",
    "**`NetworkX`** is a Python package for the creation, manipulation, and study of the structure, dynamics, and functions of complex networks. In addition, we are using **`gravis`** which is great for visualization of graphs and has an inbuilt feature of conversion of a primitive `nx.Graph` to a [D3.js](https://d3js.org/) visualization for export/view inline in jupyter notebook."
   ]
  },
  {
   "cell_type": "code",
   "execution_count": 5,
   "id": "106c3305",
   "metadata": {
    "ExecuteTime": {
     "end_time": "2025-09-29T11:01:15.925361Z",
     "start_time": "2025-09-29T11:01:15.037480Z"
    }
   },
   "outputs": [],
   "source": [
    "import gravis as gv\n",
    "import networkx as nx"
   ]
  },
  {
   "cell_type": "markdown",
   "id": "3a4c09e3",
   "metadata": {},
   "source": [
    "### Module for Optimization"
   ]
  },
  {
   "cell_type": "code",
   "execution_count": 6,
   "id": "1702d84c",
   "metadata": {
    "ExecuteTime": {
     "end_time": "2025-09-29T11:01:16.783461Z",
     "start_time": "2025-09-29T11:01:15.929931Z"
    }
   },
   "outputs": [],
   "source": [
    "import pulp as p"
   ]
  },
  {
   "cell_type": "markdown",
   "id": "f236db90",
   "metadata": {},
   "source": [
    "## User Defined Function(s)\n",
    "\n",
    "It is recommended that any UDFs are defined outside the scope of the *jupyter notebook* such that development/editing of function can be done more practically. As per *programming guidelines* as [`src`](https://fileinfo.com/extension/src) file/directory is beneficial in code development and/or production release. However, *jupyter notebook* requires *kernel restart* if any imported code file is changed in disc, for this frequently changing functions can be defined in this section.\n",
    "\n",
    "**Getting Started** with **`PYTHONPATH`**\n",
    "\n",
    "One must know what are [Environment Variable](https://medium.com/chingu/an-introduction-to-environment-variables-and-how-to-use-them-f602f66d15fa) and how to call/use them in your choice of programming language. Note that an environment variable is *case sensitive* in all operating systems (except windows, since DOS is not case sensitive). Generally, we can access environment variables from terminal/shell/command prompt as:\n",
    "\n",
    "```shell\n",
    "# macOS/*nix\n",
    "echo $VARNAME\n",
    "\n",
    "# windows\n",
    "echo %VARNAME%\n",
    "```\n",
    "\n",
    "Once you've setup your system with [`PYTHONPATH`](https://bic-berkeley.github.io/psych-214-fall-2016/using_pythonpath.html) as per [*python documentation*](https://docs.python.org/3/using/cmdline.html#envvar-PYTHONPATH) is an important directory where any `import` statements looks for based on their order of importance. If a source code/module is not available check necessary environment variables and/or ask the administrator for the source files.\n",
    "\n",
    "Most of the utility functions available in `PYTHONPATH` is tracked and maintained in [GIST.GitHub/ZenithClown](https://gist.github.com/ZenithClown) which provides detailed documentation and code snippets/example use cases etc. For more information, and category wise module check [github](https://github.com/ZenithClown/ZenithClown) repository."
   ]
  },
  {
   "cell_type": "code",
   "execution_count": 7,
   "id": "0baaf3e5",
   "metadata": {
    "ExecuteTime": {
     "end_time": "2025-09-29T11:01:17.562732Z",
     "start_time": "2025-09-29T11:01:16.787186Z"
    }
   },
   "outputs": [],
   "source": [
    "sys.path.append(os.path.join(\"..\")) # base of the repository\n",
    "\n",
    "# methods/class objects to define graph components\n",
    "from routicle.components import edges, nodes\n",
    "\n",
    "# methods/class objects for core functionalities of scm & logistics applications\n",
    "import routicle.core.networkx as rnx\n",
    "import routicle.core.optimizer as ro"
   ]
  },
  {
   "cell_type": "markdown",
   "id": "3e49dbbc",
   "metadata": {},
   "source": [
    "## Global Argument(s)\n",
    "\n",
    "The global arguments are *notebook* specific, however they may also be extended to external libraries and functions on import. The *boilerplate* provides a basic ML directory structure which contains a directory for `data` and a separate directory for `output`. In addition, a separate directory (`data/processed`) is created to save processed dataset such that preprocessing can be avoided."
   ]
  },
  {
   "cell_type": "code",
   "execution_count": 8,
   "id": "37a0b3b7",
   "metadata": {
    "ExecuteTime": {
     "end_time": "2025-09-29T11:01:17.593469Z",
     "start_time": "2025-09-29T11:01:17.568637Z"
    },
    "code_folding": [
     0
    ]
   },
   "outputs": [],
   "source": [
    "def readConfig(filepath : str, verbose : bool = True, dropkeys : list = []) -> dict:\n",
    "    config = yaml.load(open(filepath, \"r\"), Loader = yaml.FullLoader)\n",
    "\n",
    "    _ = config.pop(\"about\", None)\n",
    "    version = config.pop(\"version\", None)\n",
    "\n",
    "    if verbose:\n",
    "        print(f\"Template File Version: {version}\")\n",
    "        print(\"  Types of Node Components:\", len(config[\"components\"]))\n",
    "        print(\"   >> Component Key(s):\", config[\"components\"].keys())\n",
    "\n",
    "    # create a dictionary of dropped key-value pairs\n",
    "    dropped = dict(version = version)\n",
    "\n",
    "    for key in dropkeys:\n",
    "        dropped[key] = config.pop(key, None)\n",
    "\n",
    "    return config, dropped"
   ]
  },
  {
   "cell_type": "markdown",
   "id": "9ecfd4f3",
   "metadata": {},
   "source": [
    "### Config File Information(s)\n",
    "\n",
    "The config file is defined to design the network components (edges, nodes, etc.) with attributes for quick reference and get the value via an external API call/integration with a source system. The file is defined in a YAML format which is parsed as a dictionary in Python. The main structure of the config file with details are as follows.\n",
    "\n",
    "#### Component(s) Detail\n",
    "\n",
    "The nodes are defined under the `components` key which lists the number of nodes for a particular type followed by a list of names of the node. The attributes defined here are only the `count` which is defined for assertion purpose, while `name` is passed as the compulsory attribute for defining a node name.\n",
    "\n",
    "```yaml\n",
    "...\n",
    "components:\n",
    "    node-type:\n",
    "        count: <int>  # int, default to null\n",
    "        names: <list> # array, if null then [], else values\n",
    "    ...\n",
    "...\n",
    "```\n",
    "\n",
    "#### Attribute(s) Detail\n",
    "\n",
    "Most of the node accepts any number of external attributes by default. The `attrbutes` key is defined to map any attribute using a `zip(...)` functionality for a `routicle` nodes component library. The attributes are seperated by the type of node component type defined earler, defaults to a blank dictionary `{}` if count is `null` for any node type.\n",
    "\n",
    "```yaml\n",
    "...\n",
    "attributes:\n",
    "    node-type:\n",
    "        1:\n",
    "            attr: <any>\n",
    "        ...\n",
    "            ...\n",
    "        n:\n",
    "            ...\n",
    "    ...\n",
    "...\n",
    "```\n",
    "\n",
    "The `attribute/node-type` is positional, for example for an attribute with `count = 3` then the `n = (1, 2, 3)` under the attributes key, and is unpacked internally."
   ]
  },
  {
   "cell_type": "code",
   "execution_count": 9,
   "id": "a9e209ad",
   "metadata": {
    "ExecuteTime": {
     "end_time": "2025-09-29T11:01:17.624452Z",
     "start_time": "2025-09-29T11:01:17.596367Z"
    }
   },
   "outputs": [
    {
     "name": "stdout",
     "output_type": "stream",
     "text": [
      "Template File Version: v1.0.0\n",
      "  Types of Node Components: 4\n",
      "   >> Component Key(s): dict_keys(['ports', 'plants', 'vendors', 'warehouses'])\n"
     ]
    }
   ],
   "source": [
    "config, _ = readConfig(os.path.join(\"..\", \"assets\", \"templates\", \"network.yaml\"))"
   ]
  },
  {
   "cell_type": "code",
   "execution_count": 10,
   "id": "37302df8",
   "metadata": {
    "ExecuteTime": {
     "end_time": "2025-09-29T11:01:17.640044Z",
     "start_time": "2025-09-29T11:01:17.630045Z"
    }
   },
   "outputs": [
    {
     "name": "stdout",
     "output_type": "stream",
     "text": [
      "No. of Plants : 5\t | Plant Names: ['PA Unit-I', 'PB Unit-II', 'PC Unit-I', 'PD Unit-III', 'PE Unit-I']\n",
      "No. of Vendors : 3\t | Vendor Names: ['VA Ltd.', 'VB Co. Ltd.', 'VC Industry']\n"
     ]
    }
   ],
   "source": [
    "# for simple explanation, the template is defined with some plants and vendors\n",
    "# get the global values, and then proceed for component definition, attributes, etc.\n",
    "N_PLANTS, N_VENDORS = config[\"components\"][\"plants\"][\"count\"], config[\"components\"][\"vendors\"][\"count\"]\n",
    "\n",
    "print(f\"No. of Plants : {N_PLANTS}\\t | Plant Names:\", config[\"components\"][\"plants\"][\"names\"])\n",
    "print(f\"No. of Vendors : {N_VENDORS}\\t | Vendor Names:\", config[\"components\"][\"vendors\"][\"names\"])"
   ]
  },
  {
   "cell_type": "markdown",
   "id": "7de5725a",
   "metadata": {},
   "source": [
    "## Share of Business Optimization"
   ]
  },
  {
   "cell_type": "code",
   "execution_count": 11,
   "id": "cc5efe89",
   "metadata": {
    "ExecuteTime": {
     "end_time": "2025-09-29T11:01:17.655518Z",
     "start_time": "2025-09-29T11:01:17.643053Z"
    }
   },
   "outputs": [],
   "source": [
    "plants = [nodes.ManufacturingUnits(name = config[\"components\"][\"plants\"][\"names\"][idx], **config[\"attributes\"][\"plants\"][idx]) for idx in range(N_PLANTS)]\n",
    "vendors = [nodes.SupplyPoints(name = config[\"components\"][\"vendors\"][\"names\"][idx], **config[\"attributes\"][\"vendors\"][idx]) for idx in range(N_VENDORS)]\n",
    "\n",
    "# check dnodes definition under routicle networx/nxGraph for more information\n",
    "dnodes = {node.name : node for node in plants + vendors}"
   ]
  },
  {
   "cell_type": "code",
   "execution_count": 12,
   "id": "d6474873",
   "metadata": {
    "ExecuteTime": {
     "end_time": "2025-09-29T11:01:17.670935Z",
     "start_time": "2025-09-29T11:01:17.658527Z"
    }
   },
   "outputs": [],
   "source": [
    "# get the cost matrix from the underlying key of the template file, or\n",
    "# we can also get the cost matrix from an underlying excel sheet/like wise\n",
    "# the data shape must be of dimension of p x v where p = plants, v = vendors\n",
    "# the iteration will be on for p in plants for v in vendors ... always for lookup\n",
    "costmatrix = config[\"costmatrix\"][\"v2p\"]\n",
    "\n",
    "# as of now, time matrix is not defined; since a proper weight function\n",
    "# is required or a multi-objective optimization function is required for this\n",
    "timematrix = [[1.0] * N_VENDORS] * N_PLANTS"
   ]
  },
  {
   "cell_type": "code",
   "execution_count": 13,
   "id": "f09e51b2",
   "metadata": {
    "ExecuteTime": {
     "end_time": "2025-09-29T11:01:17.685927Z",
     "start_time": "2025-09-29T11:01:17.674535Z"
    }
   },
   "outputs": [],
   "source": [
    "# dedges is a connection between the nodes to edges, and dynamically allocate cost and rate of production (if any)\n",
    "dedges = {\n",
    "    (v.name, p.name) : edges.TimeCostEdge(\n",
    "        name = f\"{v.name} --> {p.name}\", unode = v, vnode = p,\n",
    "        time = timematrix[pidx][vidx], cost = costmatrix[pidx][vidx],\n",
    "        idgen = lambda un, vn : f\"V2P_{un}_{vn}\".upper(),\n",
    "        useselfname = False, idgenargs = [v.cidx, p.cidx],\n",
    "        indexposition = (pidx, vidx)\n",
    "    )\n",
    "    for pidx, p in enumerate(plants) for vidx, v in enumerate(vendors)\n",
    "    if math.isfinite(costmatrix[pidx][vidx])\n",
    "}"
   ]
  },
  {
   "cell_type": "code",
   "execution_count": 14,
   "id": "923a44a2",
   "metadata": {
    "ExecuteTime": {
     "end_time": "2025-09-29T11:01:17.701882Z",
     "start_time": "2025-09-29T11:01:17.689846Z"
    }
   },
   "outputs": [],
   "source": [
    "network = rnx.nxGraph(G = nx.DiGraph(), dnodes = dnodes, dedges = dedges) # created a directed graph, between vendor to plant to make time cost edge"
   ]
  },
  {
   "cell_type": "code",
   "execution_count": 15,
   "id": "7d554e5b",
   "metadata": {
    "ExecuteTime": {
     "end_time": "2025-09-29T11:01:17.765065Z",
     "start_time": "2025-09-29T11:01:17.705090Z"
    }
   },
   "outputs": [],
   "source": [
    "fig = gv.d3(network.G, show_menu = True, show_node_image = True, node_label_size_factor = 0.50)\n",
    "# fig.display(inline = True) # or view in browser"
   ]
  },
  {
   "cell_type": "code",
   "execution_count": 16,
   "id": "c31a6f18",
   "metadata": {
    "ExecuteTime": {
     "end_time": "2025-09-29T11:01:17.796704Z",
     "start_time": "2025-09-29T11:01:17.770947Z"
    },
    "scrolled": false
   },
   "outputs": [],
   "source": [
    "model = ro.PuLPModel(name = \"SOBOptimizer\", network = network)"
   ]
  },
  {
   "cell_type": "code",
   "execution_count": 17,
   "id": "94907000",
   "metadata": {
    "ExecuteTime": {
     "end_time": "2025-09-29T11:01:17.827762Z",
     "start_time": "2025-09-29T11:01:17.800755Z"
    }
   },
   "outputs": [],
   "source": [
    "demand, supply, supplyiter, demanditer = model.create_constraints(plants)"
   ]
  },
  {
   "cell_type": "code",
   "execution_count": 18,
   "id": "3780fe4c",
   "metadata": {
    "ExecuteTime": {
     "end_time": "2025-09-29T11:01:17.843282Z",
     "start_time": "2025-09-29T11:01:17.830879Z"
    }
   },
   "outputs": [],
   "source": [
    "for item in supplyiter:\n",
    "    model += p.lpSum(item[\"variables\"]) >= item[\"object\"].minorder, \"S_{name}_MO\".format(name = item[\"object\"].cidx) # add min. order quantity\n",
    "\n",
    "    maxcapacity = item[\"object\"].maxcapacity\n",
    "    maxcapacity = maxcapacity if maxcapacity != float(\"inf\") else 1e3\n",
    "    model += p.lpSum(\n",
    "        [ var * dict(item[\"object\"]).get(\"packsize\", 1.0) for var in item[\"variables\"] ]\n",
    "    ) <= maxcapacity, \"S_{name}_CAPACITY\".format(name = item[\"object\"].cidx)"
   ]
  },
  {
   "cell_type": "code",
   "execution_count": 19,
   "id": "193ff102",
   "metadata": {
    "ExecuteTime": {
     "end_time": "2025-09-29T11:01:17.858289Z",
     "start_time": "2025-09-29T11:01:17.847297Z"
    }
   },
   "outputs": [],
   "source": [
    "for item in demanditer:\n",
    "    # add the demand constraint at the plant, subjected to pack size of the vendor (optional, defaults to 1.0)\n",
    "    model += p.lpSum(\n",
    "        [ var * dict(model.network.getbycidx(str(var), component = \"edge\").unode).get(\"packsize\", 1.0) for var in item[\"variables\"] ]\n",
    "    ) == item[\"object\"].demand, \"P_{name}_DEMAND\".format(name = item[\"object\"].cidx)\n",
    "    \n",
    "    # add the capacity constraint at the plant, if the max. capacity is not defined consider a very large number\n",
    "    maxcapacity = item[\"object\"].maxcapacity\n",
    "    maxcapacity = maxcapacity if maxcapacity != float(\"inf\") else 1e3\n",
    "    model += p.lpSum(item[\"variables\"]) <= maxcapacity, \"P_{name}_CAPACITY\".format(name = item[\"object\"].cidx)"
   ]
  },
  {
   "cell_type": "code",
   "execution_count": 20,
   "id": "6eb3b9b4",
   "metadata": {
    "ExecuteTime": {
     "end_time": "2025-09-29T11:01:17.873803Z",
     "start_time": "2025-09-29T11:01:17.860284Z"
    }
   },
   "outputs": [],
   "source": [
    "for idx, _ in enumerate(model.variables()):\n",
    "    model.variables()[idx].cat = p.LpInteger"
   ]
  },
  {
   "cell_type": "code",
   "execution_count": 21,
   "id": "b7e62bd2",
   "metadata": {
    "ExecuteTime": {
     "end_time": "2025-09-29T11:01:17.889049Z",
     "start_time": "2025-09-29T11:01:17.876392Z"
    }
   },
   "outputs": [],
   "source": [
    "# the decision binary variable is of type `p.LpBinary` and is created outside the function scope\n",
    "# this ensures that the base model and its functionalities remains unaltered\n",
    "for item in demanditer:\n",
    "    # all the binary variables are named with a suffix `_DBIN` and the name,\n",
    "    # is derived from the variable names so defined in the variables iterable\n",
    "    for variable in item[\"variables\"]:\n",
    "        edge = model.network.getbycidx(str(variable), component = \"edge\")\n",
    "        model += item[\"object\"].demand >= dict(edge.unode).get(\"moq\", 0.0) * p.LpVariable(f\"{edge.cidx}_DBIN\", cat = p.LpBinary), \"LOW_MOQ_{name}\".format(name = str(variable))"
   ]
  },
  {
   "cell_type": "code",
   "execution_count": 22,
   "id": "9f72120b",
   "metadata": {
    "ExecuteTime": {
     "end_time": "2025-09-29T11:01:17.905080Z",
     "start_time": "2025-09-29T11:01:17.893061Z"
    },
    "scrolled": false
   },
   "outputs": [
    {
     "name": "stdout",
     "output_type": "stream",
     "text": [
      "Objective Function::\n",
      "\t87.24*V2P_VALTD_PAUNITI + 87.24*V2P_VALTD_PBUNITII + 87.24*V2P_VALTD_PCUNITI + 87.24*V2P_VALTD_PDUNITIII + 91.49*V2P_VALTD_PEUNITI + 257.25*V2P_VBCOLTD_PAUNITI + 257.25*V2P_VBCOLTD_PBUNITII + 257.25*V2P_VBCOLTD_PCUNITI + 255.0*V2P_VBCOLTD_PDUNITIII + 267.0*V2P_VBCOLTD_PEUNITI + 171.0*V2P_VCINDUSTRY_PAUNITI + 171.0*V2P_VCINDUSTRY_PBUNITII + 171.0*V2P_VCINDUSTRY_PCUNITI + 173.0*V2P_VCINDUSTRY_PDUNITIII\n",
      "\n",
      "No. of Variables = 19 | Variable Names::\n",
      "\t[V2P_VALTD_PAUNITI, V2P_VALTD_PAUNITI_DBIN, V2P_VALTD_PBUNITII, V2P_VALTD_PBUNITII_DBIN, V2P_VALTD_PCUNITI, V2P_VALTD_PCUNITI_DBIN, V2P_VALTD_PDUNITIII, V2P_VALTD_PDUNITIII_DBIN, V2P_VALTD_PEUNITI, V2P_VALTD_PEUNITI_DBIN, V2P_VBCOLTD_PAUNITI, V2P_VBCOLTD_PBUNITII, V2P_VBCOLTD_PCUNITI, V2P_VBCOLTD_PDUNITIII, V2P_VBCOLTD_PEUNITI, V2P_VCINDUSTRY_PAUNITI, V2P_VCINDUSTRY_PBUNITII, V2P_VCINDUSTRY_PCUNITI, V2P_VCINDUSTRY_PDUNITIII]\n",
      "\n",
      "No. of Constraints = 30 | Constraint Definition::\n",
      "{\n",
      "  \"S_VALTD_MO\": \"V2P_VALTD_PAUNITI + V2P_VALTD_PBUNITII + V2P_VALTD_PCUNITI + V2P_VALTD_PDUNITIII + V2P_VALTD_PEUNITI >= 5.0\",\n",
      "  \"S_VALTD_CAPACITY\": \"V2P_VALTD_PAUNITI + V2P_VALTD_PBUNITII + V2P_VALTD_PCUNITI + V2P_VALTD_PDUNITIII + V2P_VALTD_PEUNITI <= 100.0\",\n",
      "  \"S_VCINDUSTRY_MO\": \"V2P_VCINDUSTRY_PAUNITI + V2P_VCINDUSTRY_PBUNITII + V2P_VCINDUSTRY_PCUNITI + V2P_VCINDUSTRY_PDUNITIII >= -0.0\",\n",
      "  \"S_VCINDUSTRY_CAPACITY\": \"2.0*V2P_VCINDUSTRY_PAUNITI + 2.0*V2P_VCINDUSTRY_PBUNITII + 2.0*V2P_VCINDUSTRY_PCUNITI + 2.0*V2P_VCINDUSTRY_PDUNITIII <= 4.0\",\n",
      "  \"S_VBCOLTD_MO\": \"V2P_VBCOLTD_PAUNITI + V2P_VBCOLTD_PBUNITII + V2P_VBCOLTD_PCUNITI + V2P_VBCOLTD_PDUNITIII + V2P_VBCOLTD_PEUNITI >= -0.0\",\n",
      "  \"S_VBCOLTD_CAPACITY\": \"3.0*V2P_VBCOLTD_PAUNITI + 3.0*V2P_VBCOLTD_PBUNITII + 3.0*V2P_VBCOLTD_PCUNITI + 3.0*V2P_VBCOLTD_PDUNITIII + 3.0*V2P_VBCOLTD_PEUNITI <= 15.0\",\n",
      "  \"P_PAUNITI_DEMAND\": \"V2P_VALTD_PAUNITI + 3.0*V2P_VBCOLTD_PAUNITI + 2.0*V2P_VCINDUSTRY_PAUNITI = 12.0\",\n",
      "  \"P_PAUNITI_CAPACITY\": \"V2P_VALTD_PAUNITI + V2P_VBCOLTD_PAUNITI + V2P_VCINDUSTRY_PAUNITI <= 1000.0\",\n",
      "  \"P_PBUNITII_DEMAND\": \"V2P_VALTD_PBUNITII + 3.0*V2P_VBCOLTD_PBUNITII + 2.0*V2P_VCINDUSTRY_PBUNITII = 9.0\",\n",
      "  \"P_PBUNITII_CAPACITY\": \"V2P_VALTD_PBUNITII + V2P_VBCOLTD_PBUNITII + V2P_VCINDUSTRY_PBUNITII <= 1000.0\",\n",
      "  \"P_PCUNITI_DEMAND\": \"V2P_VALTD_PCUNITI + 3.0*V2P_VBCOLTD_PCUNITI + 2.0*V2P_VCINDUSTRY_PCUNITI = 4.0\",\n",
      "  \"P_PCUNITI_CAPACITY\": \"V2P_VALTD_PCUNITI + V2P_VBCOLTD_PCUNITI + V2P_VCINDUSTRY_PCUNITI <= 1000.0\",\n",
      "  \"P_PDUNITIII_DEMAND\": \"V2P_VALTD_PDUNITIII + 3.0*V2P_VBCOLTD_PDUNITIII + 2.0*V2P_VCINDUSTRY_PDUNITIII = 1.0\",\n",
      "  \"P_PDUNITIII_CAPACITY\": \"V2P_VALTD_PDUNITIII + V2P_VBCOLTD_PDUNITIII + V2P_VCINDUSTRY_PDUNITIII <= 1000.0\",\n",
      "  \"P_PEUNITI_DEMAND\": \"V2P_VALTD_PEUNITI + 3.0*V2P_VBCOLTD_PEUNITI = 4.0\",\n",
      "  \"P_PEUNITI_CAPACITY\": \"V2P_VALTD_PEUNITI + V2P_VBCOLTD_PEUNITI <= 1000.0\",\n",
      "  \"LOW_MOQ_V2P_VALTD_PAUNITI\": \"5.0*V2P_VALTD_PAUNITI_DBIN <= 12.0\",\n",
      "  \"LOW_MOQ_V2P_VBCOLTD_PAUNITI\": \"0 <= 12.0\",\n",
      "  \"LOW_MOQ_V2P_VCINDUSTRY_PAUNITI\": \"0 <= 12.0\",\n",
      "  \"LOW_MOQ_V2P_VALTD_PBUNITII\": \"5.0*V2P_VALTD_PBUNITII_DBIN <= 9.0\",\n",
      "  \"LOW_MOQ_V2P_VBCOLTD_PBUNITII\": \"0 <= 9.0\",\n",
      "  \"LOW_MOQ_V2P_VCINDUSTRY_PBUNITII\": \"0 <= 9.0\",\n",
      "  \"LOW_MOQ_V2P_VALTD_PCUNITI\": \"5.0*V2P_VALTD_PCUNITI_DBIN <= 4.0\",\n",
      "  \"LOW_MOQ_V2P_VBCOLTD_PCUNITI\": \"0 <= 4.0\",\n",
      "  \"LOW_MOQ_V2P_VCINDUSTRY_PCUNITI\": \"0 <= 4.0\",\n",
      "  \"LOW_MOQ_V2P_VALTD_PDUNITIII\": \"5.0*V2P_VALTD_PDUNITIII_DBIN <= 1.0\",\n",
      "  \"LOW_MOQ_V2P_VBCOLTD_PDUNITIII\": \"0 <= 1.0\",\n",
      "  \"LOW_MOQ_V2P_VCINDUSTRY_PDUNITIII\": \"0 <= 1.0\",\n",
      "  \"LOW_MOQ_V2P_VALTD_PEUNITI\": \"5.0*V2P_VALTD_PEUNITI_DBIN <= 4.0\",\n",
      "  \"LOW_MOQ_V2P_VBCOLTD_PEUNITI\": \"0 <= 4.0\"\n",
      "}\n"
     ]
    }
   ],
   "source": [
    "print(f\"Objective Function::\\n\\t{model.objective}\", end = \"\\n\\n\")\n",
    "print(f\"No. of Variables = {len(model.nvariables):,} | Variable Names::\\n\\t{model.nvariables}\", end = \"\\n\\n\")\n",
    "print(f\"No. of Constraints = {len(model.nconstraints):,} | Constraint Definition::\\n{json.dumps(model.nconstraints, default = str, indent = 2)}\")"
   ]
  },
  {
   "cell_type": "code",
   "execution_count": 23,
   "id": "f1715957",
   "metadata": {
    "ExecuteTime": {
     "end_time": "2025-09-29T11:01:18.276904Z",
     "start_time": "2025-09-29T11:01:17.909078Z"
    }
   },
   "outputs": [
    {
     "name": "stdout",
     "output_type": "stream",
     "text": [
      "Solver Status: Optimal\n",
      "Target Objective: 2,601.89\n",
      "[[9.0, 3.0, 0.0], [0.0, 9.0, 0.0], [0.0, 0.0, 4.0], [1.0, 0.0, 0.0], [1.0, 3.0, None]]\n"
     ]
    }
   ],
   "source": [
    "status = model.optimize()\n",
    "\n",
    "# we've defined a positional index in an attribute, this\n",
    "# can be used to return the matrix in the original order for representation\n",
    "output = [[None] * N_VENDORS for _ in range(N_PLANTS)] # https://stackoverflow.com/a/2739564\n",
    "\n",
    "for var in [variable for variable in model.nvariables if \"_DBIN\" not in str(variable)]:\n",
    "    edge = network.getbycidx(str(var), component = \"edge\")\n",
    "    output[edge.indexposition[0]][edge.indexposition[1]] = p.value(var) * edge.unode.packsize\n",
    "\n",
    "print(output)"
   ]
  },
  {
   "cell_type": "code",
   "execution_count": 24,
   "id": "70f4d295",
   "metadata": {
    "ExecuteTime": {
     "end_time": "2025-09-29T11:01:18.291989Z",
     "start_time": "2025-09-29T11:01:18.280420Z"
    }
   },
   "outputs": [],
   "source": [
    "# model.__reset_constraints__()"
   ]
  }
 ],
 "metadata": {
  "kernelspec": {
   "display_name": "TensorFlow CPU (v2.12.0)",
   "language": "python",
   "name": "tensorflow"
  },
  "language_info": {
   "codemirror_mode": {
    "name": "ipython",
    "version": 3
   },
   "file_extension": ".py",
   "mimetype": "text/x-python",
   "name": "python",
   "nbconvert_exporter": "python",
   "pygments_lexer": "ipython3",
   "version": "3.10.9"
  }
 },
 "nbformat": 4,
 "nbformat_minor": 5
}
