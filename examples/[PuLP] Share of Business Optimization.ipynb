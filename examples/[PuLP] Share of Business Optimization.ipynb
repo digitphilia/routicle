{
 "cells": [
  {
   "cell_type": "code",
   "execution_count": 1,
   "id": "0859c861",
   "metadata": {
    "ExecuteTime": {
     "end_time": "2025-09-22T09:19:41.027387Z",
     "start_time": "2025-09-22T09:19:41.004272Z"
    }
   },
   "outputs": [],
   "source": [
    "# the copywright author is added, which is notebook specific\n",
    "# for more information on codeowners and details, check CODEOWNERS\n",
    "__copyright__ = \"Copywright © 2025 Debmalya Pramanik (ZenithClown)\""
   ]
  },
  {
   "cell_type": "markdown",
   "id": "a7b08b7e",
   "metadata": {},
   "source": [
    "<div align = \"center\">\n",
    "\n",
    "# Basic Concepts & Usage of `NetworkX`\n",
    "\n",
    "</div>\n",
    "\n",
    "A *jupyter notebook* file exploring the optimization of share of business across plant-vendor combination with different constraints (MOQ, pack size, min. order, capacity) to meet the demand at a plant while minimizing the overall cost and time. Typically, this can be done using various optimization libaries as explained below."
   ]
  },
  {
   "cell_type": "code",
   "execution_count": 2,
   "id": "46f6bc60",
   "metadata": {
    "ExecuteTime": {
     "end_time": "2025-09-22T09:19:41.042548Z",
     "start_time": "2025-09-22T09:19:41.035478Z"
    }
   },
   "outputs": [],
   "source": [
    "import os   # miscellaneous os interfaces\n",
    "import sys  # configuring python runtime environment\n",
    "import json # json, i.e., dict based object manipulation\n",
    "import math # basic mathematical operations, etc."
   ]
  },
  {
   "cell_type": "code",
   "execution_count": 3,
   "id": "67989300",
   "metadata": {
    "ExecuteTime": {
     "end_time": "2025-09-22T09:19:41.074531Z",
     "start_time": "2025-09-22T09:19:41.051645Z"
    }
   },
   "outputs": [],
   "source": [
    "import random # generate random numbers for poc development"
   ]
  },
  {
   "cell_type": "code",
   "execution_count": 4,
   "id": "8ddc2671",
   "metadata": {
    "ExecuteTime": {
     "end_time": "2025-09-22T09:19:41.478545Z",
     "start_time": "2025-09-22T09:19:41.083244Z"
    }
   },
   "outputs": [],
   "source": [
    "from typing import Iterable\n",
    "from uuid import uuid4 as UUID4\n",
    "from tqdm.auto import tqdm as TQ"
   ]
  },
  {
   "cell_type": "markdown",
   "id": "94228ca5",
   "metadata": {},
   "source": [
    "### Module for Complex Network\n",
    "\n",
    "**`NetworkX`** is a Python package for the creation, manipulation, and study of the structure, dynamics, and functions of complex networks. In addition, we are using **`gravis`** which is great for visualization of graphs and has an inbuilt feature of conversion of a primitive `nx.Graph` to a [D3.js](https://d3js.org/) visualization for export/view inline in jupyter notebook."
   ]
  },
  {
   "cell_type": "code",
   "execution_count": 5,
   "id": "106c3305",
   "metadata": {
    "ExecuteTime": {
     "end_time": "2025-09-22T09:19:43.213406Z",
     "start_time": "2025-09-22T09:19:41.485358Z"
    }
   },
   "outputs": [],
   "source": [
    "import gravis as gv\n",
    "import networkx as nx"
   ]
  },
  {
   "cell_type": "markdown",
   "id": "3a4c09e3",
   "metadata": {},
   "source": [
    "### Module for Optimization"
   ]
  },
  {
   "cell_type": "code",
   "execution_count": 6,
   "id": "1702d84c",
   "metadata": {
    "ExecuteTime": {
     "end_time": "2025-09-22T09:19:44.396094Z",
     "start_time": "2025-09-22T09:19:43.225848Z"
    }
   },
   "outputs": [],
   "source": [
    "import pulp as p"
   ]
  },
  {
   "cell_type": "markdown",
   "id": "f236db90",
   "metadata": {},
   "source": [
    "## User Defined Function(s)\n",
    "\n",
    "It is recommended that any UDFs are defined outside the scope of the *jupyter notebook* such that development/editing of function can be done more practically. As per *programming guidelines* as [`src`](https://fileinfo.com/extension/src) file/directory is beneficial in code development and/or production release. However, *jupyter notebook* requires *kernel restart* if any imported code file is changed in disc, for this frequently changing functions can be defined in this section.\n",
    "\n",
    "**Getting Started** with **`PYTHONPATH`**\n",
    "\n",
    "One must know what are [Environment Variable](https://medium.com/chingu/an-introduction-to-environment-variables-and-how-to-use-them-f602f66d15fa) and how to call/use them in your choice of programming language. Note that an environment variable is *case sensitive* in all operating systems (except windows, since DOS is not case sensitive). Generally, we can access environment variables from terminal/shell/command prompt as:\n",
    "\n",
    "```shell\n",
    "# macOS/*nix\n",
    "echo $VARNAME\n",
    "\n",
    "# windows\n",
    "echo %VARNAME%\n",
    "```\n",
    "\n",
    "Once you've setup your system with [`PYTHONPATH`](https://bic-berkeley.github.io/psych-214-fall-2016/using_pythonpath.html) as per [*python documentation*](https://docs.python.org/3/using/cmdline.html#envvar-PYTHONPATH) is an important directory where any `import` statements looks for based on their order of importance. If a source code/module is not available check necessary environment variables and/or ask the administrator for the source files.\n",
    "\n",
    "Most of the utility functions available in `PYTHONPATH` is tracked and maintained in [GIST.GitHub/ZenithClown](https://gist.github.com/ZenithClown) which provides detailed documentation and code snippets/example use cases etc. For more information, and category wise module check [github](https://github.com/ZenithClown/ZenithClown) repository."
   ]
  },
  {
   "cell_type": "code",
   "execution_count": 7,
   "id": "0baaf3e5",
   "metadata": {
    "ExecuteTime": {
     "end_time": "2025-09-22T09:19:45.379343Z",
     "start_time": "2025-09-22T09:19:44.405775Z"
    }
   },
   "outputs": [],
   "source": [
    "sys.path.append(os.path.join(\"..\")) # base of the repository\n",
    "\n",
    "# methods/class objects to define graph components\n",
    "from routicle.components import edges, nodes\n",
    "\n",
    "# methods/class objects for core functionalities of scm & logistics applications\n",
    "import routicle.core.networkx as rnx\n",
    "import routicle.core.optimizer as ro"
   ]
  },
  {
   "cell_type": "markdown",
   "id": "3e49dbbc",
   "metadata": {},
   "source": [
    "## Global Argument(s)\n",
    "\n",
    "The global arguments are *notebook* specific, however they may also be extended to external libraries and functions on import. The *boilerplate* provides a basic ML directory structure which contains a directory for `data` and a separate directory for `output`. In addition, a separate directory (`data/processed`) is created to save processed dataset such that preprocessing can be avoided."
   ]
  },
  {
   "cell_type": "code",
   "execution_count": 8,
   "id": "37302df8",
   "metadata": {
    "ExecuteTime": {
     "end_time": "2025-09-22T09:19:45.394879Z",
     "start_time": "2025-09-22T09:19:45.386264Z"
    }
   },
   "outputs": [],
   "source": [
    "# define the number of nodes by type, for production\n",
    "# the value should be fetched from a config file/dataframe\n",
    "N_PLANTS, N_VENDORS = 5, 3"
   ]
  },
  {
   "cell_type": "markdown",
   "id": "7de5725a",
   "metadata": {},
   "source": [
    "## Share of Business Optimization"
   ]
  },
  {
   "cell_type": "code",
   "execution_count": 9,
   "id": "b42c64b7",
   "metadata": {
    "ExecuteTime": {
     "end_time": "2025-09-22T09:19:45.425711Z",
     "start_time": "2025-09-22T09:19:45.401128Z"
    }
   },
   "outputs": [],
   "source": [
    "plants = [\n",
    "    nodes.ManufacturingUnits(name = \"Vapi 78/79\", rate = 0.0, demand = 12.0),\n",
    "    nodes.ManufacturingUnits(name = \"DAMAN UNIT 1\", rate = 0.0, demand = 9.0),\n",
    "    nodes.ManufacturingUnits(name = \"SPAN INTERMEDIATES\", rate = 0.0, demand = 4.0),\n",
    "    nodes.ManufacturingUnits(name = \"DAHEZ SEZ\", rate = 0.0, demand = 1.0),\n",
    "    nodes.ManufacturingUnits(name = \"BADDI UNIT 1\", rate = 0.0, demand = 4.0),\n",
    "]\n",
    "\n",
    "vendors = [\n",
    "    nodes.SupplyPoints(name = \"DPL\", minorder = 5.0, moq = 5.0, maxcapacity = 100),\n",
    "    nodes.SupplyPoints(name = \"CJ Shah\", minorder = 0.0, maxcapacity = 15.0),\n",
    "    nodes.SupplyPoints(name = \"PRASOL\", minorder = 0.0, maxcapacity = 4.0),\n",
    "]\n",
    "\n",
    "dnodes = {node.name : node for node in plants + vendors}"
   ]
  },
  {
   "cell_type": "code",
   "execution_count": 10,
   "id": "f09e51b2",
   "metadata": {
    "ExecuteTime": {
     "end_time": "2025-09-22T09:19:45.456740Z",
     "start_time": "2025-09-22T09:19:45.432370Z"
    }
   },
   "outputs": [],
   "source": [
    "# get the cost matrix from an underlying excel sheet/like wise\n",
    "# the data shape must be of dimension of p x v where p = plants, v = vendors\n",
    "# the iteration will be on for p in plants for v in vendors ... always for lookup\n",
    "costmatrix = [\n",
    "    # n-plants x n-vendors matrix, set cost and/or time for edges\n",
    "    [87.24, 85.75, 85.50],\n",
    "    [87.24, 85.75, 85.50],\n",
    "    [87.24, 85.75, 85.50],\n",
    "    [87.24, 85.00, 86.50],\n",
    "    [91.49, 89.00, float(\"inf\")]\n",
    "]\n",
    "\n",
    "timematrix = [[1.0] * N_VENDORS] * N_PLANTS\n",
    "\n",
    "# dedges is a connection between the nodes to edges, and dynamically allocate cost and rate of production (if any)\n",
    "dedges = {\n",
    "    (v.name, p.name) : edges.TimeCostEdge(\n",
    "        name = f\"{v.name} --> {p.name}\", unode = v, vnode = p,\n",
    "        time = timematrix[pidx][vidx], cost = costmatrix[pidx][vidx],\n",
    "        idgen = lambda un, vn : f\"V2P_{un}_{vn}\".upper(),\n",
    "        useselfname = False, idgenargs = [v.cidx, p.cidx],\n",
    "        indexposition = (pidx, vidx)\n",
    "    )\n",
    "    for pidx, p in enumerate(plants) for vidx, v in enumerate(vendors)\n",
    "    if math.isfinite(costmatrix[pidx][vidx])\n",
    "}"
   ]
  },
  {
   "cell_type": "code",
   "execution_count": 11,
   "id": "923a44a2",
   "metadata": {
    "ExecuteTime": {
     "end_time": "2025-09-22T09:19:45.472256Z",
     "start_time": "2025-09-22T09:19:45.459756Z"
    }
   },
   "outputs": [],
   "source": [
    "network = rnx.nxGraph(G = nx.DiGraph(), dnodes = dnodes, dedges = dedges) # created a directed graph, between vendor to plant to make time cost edge"
   ]
  },
  {
   "cell_type": "code",
   "execution_count": 12,
   "id": "7d554e5b",
   "metadata": {
    "ExecuteTime": {
     "end_time": "2025-09-22T09:19:45.535400Z",
     "start_time": "2025-09-22T09:19:45.477772Z"
    }
   },
   "outputs": [],
   "source": [
    "fig = gv.d3(network.G, show_menu = True, show_node_image = True, node_label_size_factor = 0.50)\n",
    "# fig.display(inline = True) # or view in browser"
   ]
  },
  {
   "cell_type": "code",
   "execution_count": 13,
   "id": "c31a6f18",
   "metadata": {
    "ExecuteTime": {
     "end_time": "2025-09-22T09:19:45.550911Z",
     "start_time": "2025-09-22T09:19:45.539914Z"
    },
    "scrolled": false
   },
   "outputs": [],
   "source": [
    "model = ro.PuLPModel(name = \"SOBOptimizer\", network = network)"
   ]
  },
  {
   "cell_type": "code",
   "execution_count": 14,
   "id": "94907000",
   "metadata": {
    "ExecuteTime": {
     "end_time": "2025-09-22T09:19:45.566116Z",
     "start_time": "2025-09-22T09:19:45.555538Z"
    }
   },
   "outputs": [],
   "source": [
    "demand, supply, supplyiter, demanditer = model.create_constraints(plants)"
   ]
  },
  {
   "cell_type": "code",
   "execution_count": 15,
   "id": "3780fe4c",
   "metadata": {
    "ExecuteTime": {
     "end_time": "2025-09-22T09:19:45.596400Z",
     "start_time": "2025-09-22T09:19:45.569242Z"
    }
   },
   "outputs": [],
   "source": [
    "for item in supplyiter:\n",
    "    model += p.lpSum(item[\"variables\"]) >= item[\"object\"].minorder, \"S_{name}_MO\".format(name = item[\"object\"].cidx) # add min. order quantity\n",
    "\n",
    "    maxcapacity = item[\"object\"].maxcapacity\n",
    "    maxcapacity = maxcapacity if maxcapacity != float(\"inf\") else 1e3\n",
    "    model += p.lpSum(item[\"variables\"]) <= maxcapacity, \"S_{name}_CAPACITY\".format(name = item[\"object\"].cidx)"
   ]
  },
  {
   "cell_type": "code",
   "execution_count": 16,
   "id": "193ff102",
   "metadata": {
    "ExecuteTime": {
     "end_time": "2025-09-22T09:19:45.611696Z",
     "start_time": "2025-09-22T09:19:45.599676Z"
    }
   },
   "outputs": [],
   "source": [
    "for item in demanditer:\n",
    "    model += p.lpSum(item[\"variables\"]) == item[\"object\"].demand, \"P_{name}_DEMAND\".format(name = item[\"object\"].cidx)"
   ]
  },
  {
   "cell_type": "code",
   "execution_count": 17,
   "id": "9f72120b",
   "metadata": {
    "ExecuteTime": {
     "end_time": "2025-09-22T09:19:45.642409Z",
     "start_time": "2025-09-22T09:19:45.615473Z"
    },
    "scrolled": false
   },
   "outputs": [
    {
     "name": "stdout",
     "output_type": "stream",
     "text": [
      "Objective Function::\n",
      "\t89.0*V2P_CJSHAH_BADDIUNIT1 + 85.0*V2P_CJSHAH_DAHEZSEZ + 85.75*V2P_CJSHAH_DAMANUNIT1 + 85.75*V2P_CJSHAH_SPANINTERMEDIATES + 85.75*V2P_CJSHAH_VAPI7879 + 91.49*V2P_DPL_BADDIUNIT1 + 87.24*V2P_DPL_DAHEZSEZ + 87.24*V2P_DPL_DAMANUNIT1 + 87.24*V2P_DPL_SPANINTERMEDIATES + 87.24*V2P_DPL_VAPI7879 + 86.5*V2P_PRASOL_DAHEZSEZ + 85.5*V2P_PRASOL_DAMANUNIT1 + 85.5*V2P_PRASOL_SPANINTERMEDIATES + 85.5*V2P_PRASOL_VAPI7879\n",
      "\n",
      "No. of Variables = 14 | Variable Names::\n",
      "\t[V2P_CJSHAH_BADDIUNIT1, V2P_CJSHAH_DAHEZSEZ, V2P_CJSHAH_DAMANUNIT1, V2P_CJSHAH_SPANINTERMEDIATES, V2P_CJSHAH_VAPI7879, V2P_DPL_BADDIUNIT1, V2P_DPL_DAHEZSEZ, V2P_DPL_DAMANUNIT1, V2P_DPL_SPANINTERMEDIATES, V2P_DPL_VAPI7879, V2P_PRASOL_DAHEZSEZ, V2P_PRASOL_DAMANUNIT1, V2P_PRASOL_SPANINTERMEDIATES, V2P_PRASOL_VAPI7879]\n",
      "\n",
      "No. of Constraints = 11 | Constraint Definition::\n",
      "{\n",
      "  \"S_CJSHAH_MO\": \"V2P_CJSHAH_BADDIUNIT1 + V2P_CJSHAH_DAHEZSEZ + V2P_CJSHAH_DAMANUNIT1 + V2P_CJSHAH_SPANINTERMEDIATES + V2P_CJSHAH_VAPI7879 >= -0.0\",\n",
      "  \"S_CJSHAH_CAPACITY\": \"V2P_CJSHAH_BADDIUNIT1 + V2P_CJSHAH_DAHEZSEZ + V2P_CJSHAH_DAMANUNIT1 + V2P_CJSHAH_SPANINTERMEDIATES + V2P_CJSHAH_VAPI7879 <= 15.0\",\n",
      "  \"S_PRASOL_MO\": \"V2P_PRASOL_DAHEZSEZ + V2P_PRASOL_DAMANUNIT1 + V2P_PRASOL_SPANINTERMEDIATES + V2P_PRASOL_VAPI7879 >= -0.0\",\n",
      "  \"S_PRASOL_CAPACITY\": \"V2P_PRASOL_DAHEZSEZ + V2P_PRASOL_DAMANUNIT1 + V2P_PRASOL_SPANINTERMEDIATES + V2P_PRASOL_VAPI7879 <= 4.0\",\n",
      "  \"S_DPL_MO\": \"V2P_DPL_BADDIUNIT1 + V2P_DPL_DAHEZSEZ + V2P_DPL_DAMANUNIT1 + V2P_DPL_SPANINTERMEDIATES + V2P_DPL_VAPI7879 >= 5.0\",\n",
      "  \"S_DPL_CAPACITY\": \"V2P_DPL_BADDIUNIT1 + V2P_DPL_DAHEZSEZ + V2P_DPL_DAMANUNIT1 + V2P_DPL_SPANINTERMEDIATES + V2P_DPL_VAPI7879 <= 100.0\",\n",
      "  \"P_VAPI7879_DEMAND\": \"V2P_CJSHAH_VAPI7879 + V2P_DPL_VAPI7879 + V2P_PRASOL_VAPI7879 = 12.0\",\n",
      "  \"P_DAMANUNIT1_DEMAND\": \"V2P_CJSHAH_DAMANUNIT1 + V2P_DPL_DAMANUNIT1 + V2P_PRASOL_DAMANUNIT1 = 9.0\",\n",
      "  \"P_SPANINTERMEDIATES_DEMAND\": \"V2P_CJSHAH_SPANINTERMEDIATES + V2P_DPL_SPANINTERMEDIATES + V2P_PRASOL_SPANINTERMEDIATES = 4.0\",\n",
      "  \"P_DAHEZSEZ_DEMAND\": \"V2P_CJSHAH_DAHEZSEZ + V2P_DPL_DAHEZSEZ + V2P_PRASOL_DAHEZSEZ = 1.0\",\n",
      "  \"P_BADDIUNIT1_DEMAND\": \"V2P_CJSHAH_BADDIUNIT1 + V2P_DPL_BADDIUNIT1 = 4.0\"\n",
      "}\n"
     ]
    }
   ],
   "source": [
    "print(f\"Objective Function::\\n\\t{model.objective}\", end = \"\\n\\n\")\n",
    "print(f\"No. of Variables = {len(model.nvariables):,} | Variable Names::\\n\\t{model.nvariables}\", end = \"\\n\\n\")\n",
    "print(f\"No. of Constraints = {len(model.nconstraints):,} | Constraint Definition::\\n{json.dumps(model.nconstraints, default = str, indent = 2)}\")"
   ]
  },
  {
   "cell_type": "code",
   "execution_count": 18,
   "id": "f1715957",
   "metadata": {
    "ExecuteTime": {
     "end_time": "2025-09-22T09:19:46.014688Z",
     "start_time": "2025-09-22T09:19:45.656045Z"
    }
   },
   "outputs": [
    {
     "name": "stdout",
     "output_type": "stream",
     "text": [
      "Solver Status: Optimal\n",
      "Target Objective: 2,600.14\n",
      "[[0.0, 8.0, 4.0], [9.0, 0.0, 0.0], [2.0, 2.0, 0.0], [0.0, 1.0, 0.0], [0.0, 4.0, None]]\n"
     ]
    }
   ],
   "source": [
    "status = model.optimize()\n",
    "\n",
    "# we've defined a positional index in an attribute, this\n",
    "# can be used to return the matrix in the original order for representation\n",
    "output = [[None] * N_VENDORS for _ in range(N_PLANTS)] # https://stackoverflow.com/a/2739564\n",
    "\n",
    "for var in model.nvariables:\n",
    "    edge = network.getbycidx(str(var), component = \"edge\")\n",
    "    output[edge.indexposition[0]][edge.indexposition[1]] = p.value(var)\n",
    "\n",
    "print(output)"
   ]
  },
  {
   "cell_type": "code",
   "execution_count": 19,
   "id": "70f4d295",
   "metadata": {
    "ExecuteTime": {
     "end_time": "2025-09-22T09:19:46.030215Z",
     "start_time": "2025-09-22T09:19:46.020689Z"
    }
   },
   "outputs": [],
   "source": [
    "# model.__reset_constraints__()"
   ]
  }
 ],
 "metadata": {
  "kernelspec": {
   "display_name": "TensorFlow CPU (v2.12.0)",
   "language": "python",
   "name": "tensorflow"
  },
  "language_info": {
   "codemirror_mode": {
    "name": "ipython",
    "version": 3
   },
   "file_extension": ".py",
   "mimetype": "text/x-python",
   "name": "python",
   "nbconvert_exporter": "python",
   "pygments_lexer": "ipython3",
   "version": "3.10.9"
  }
 },
 "nbformat": 4,
 "nbformat_minor": 5
}
