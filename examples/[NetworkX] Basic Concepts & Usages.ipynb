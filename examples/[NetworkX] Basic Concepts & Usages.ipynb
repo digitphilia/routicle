{
 "cells": [
  {
   "cell_type": "code",
   "execution_count": 1,
   "id": "0859c861",
   "metadata": {
    "ExecuteTime": {
     "end_time": "2025-09-22T07:16:03.961947Z",
     "start_time": "2025-09-22T07:16:03.922518Z"
    }
   },
   "outputs": [],
   "source": [
    "# the copywright author is added, which is notebook specific\n",
    "# for more information on codeowners and details, check CODEOWNERS\n",
    "__copyright__ = \"Copywright © 2025 Debmalya Pramanik (ZenithClown)\""
   ]
  },
  {
   "cell_type": "markdown",
   "id": "a7b08b7e",
   "metadata": {},
   "source": [
    "<div align = \"center\">\n",
    "\n",
    "# Basic Concepts & Usage of `NetworkX`\n",
    "\n",
    "</div>\n",
    "\n",
    "[**`NetworkX`**](https://networkx.org/) is a Python library for creating, manipulating, and studying the structure, dynamics, and functions of complex networks. It provides tools for working with graphs, which are mathematical structures used to model relationships between entities.This document captures the usage of ``routicle`` along side the base module in terms of supply chain management problems. For more information on graph theory and usage of NetworkX check the detailed [documentation](https://networkx.org/documentation/stable/tutorial.html).\n",
    "\n",
    "## Installation & Importing NetworkX\n",
    "\n",
    "Check [PyPI Package](https://pypi.org/project/networkx/) for more information on installation and requirements. If NetworkX is not already installed, it can be installed using pip:\n",
    "\n",
    "```shell\n",
    "$ pip install networkx\n",
    "```\n",
    "\n",
    "It is standard practice to import NetworkX with the alias `nx`. The module provides different graph classes, `nx.Graph` for undirected graph, and `nx.DiGraph` for directed ones.\n",
    "\n",
    "```python\n",
    "import networkx as nx\n",
    "\n",
    "# create a undirected graph, with alias (say G)\n",
    "G = nx.Graph()\n",
    "\n",
    "# or, create a directed graph, with alias (say DG)\n",
    "DG = nx.DiGraph()\n",
    "```\n",
    "\n",
    "For fundamental concepts on adding graph components like `nodes` and `edges` and any basic information check [tutorial](https://networkx.org/documentation/stable/tutorial.html)."
   ]
  },
  {
   "cell_type": "code",
   "execution_count": 2,
   "id": "46f6bc60",
   "metadata": {
    "ExecuteTime": {
     "end_time": "2025-09-22T07:16:03.992432Z",
     "start_time": "2025-09-22T07:16:03.978064Z"
    }
   },
   "outputs": [],
   "source": [
    "import os  # miscellaneous os interfaces\n",
    "import sys # configuring python runtime environment"
   ]
  },
  {
   "cell_type": "code",
   "execution_count": 3,
   "id": "33fa24f1",
   "metadata": {
    "ExecuteTime": {
     "end_time": "2025-09-22T07:16:04.024307Z",
     "start_time": "2025-09-22T07:16:04.005053Z"
    }
   },
   "outputs": [],
   "source": [
    "import json # pretty print dictionary object"
   ]
  },
  {
   "cell_type": "code",
   "execution_count": 4,
   "id": "67989300",
   "metadata": {
    "ExecuteTime": {
     "end_time": "2025-09-22T07:16:04.054891Z",
     "start_time": "2025-09-22T07:16:04.046284Z"
    }
   },
   "outputs": [],
   "source": [
    "import random # generate random numbers for poc development"
   ]
  },
  {
   "cell_type": "code",
   "execution_count": 5,
   "id": "8ddc2671",
   "metadata": {
    "ExecuteTime": {
     "end_time": "2025-09-22T07:16:04.612278Z",
     "start_time": "2025-09-22T07:16:04.064191Z"
    }
   },
   "outputs": [],
   "source": [
    "from typing import Iterable\n",
    "from uuid import uuid4 as UUIDx\n",
    "from tqdm.auto import tqdm as TQ"
   ]
  },
  {
   "cell_type": "markdown",
   "id": "3a4c09e3",
   "metadata": {},
   "source": [
    "### Software for Complex Network\n",
    "\n",
    "**`NetworkX`** is a Python package for the creation, manipulation, and study of the structure, dynamics, and functions of complex networks. In addition, we are using **`gravis`** which is great for visualization of graphs and has an inbuilt feature of conversion of a primitive `nx.Graph` to a [D3.js](https://d3js.org/) visualization for export/view inline in jupyter notebook."
   ]
  },
  {
   "cell_type": "code",
   "execution_count": 6,
   "id": "1702d84c",
   "metadata": {
    "ExecuteTime": {
     "end_time": "2025-09-22T07:16:06.439688Z",
     "start_time": "2025-09-22T07:16:04.625402Z"
    }
   },
   "outputs": [],
   "source": [
    "import gravis as gv\n",
    "import networkx as nx"
   ]
  },
  {
   "cell_type": "markdown",
   "id": "f236db90",
   "metadata": {},
   "source": [
    "## User Defined Function(s)\n",
    "\n",
    "It is recommended that any UDFs are defined outside the scope of the *jupyter notebook* such that development/editing of function can be done more practically. As per *programming guidelines* as [`src`](https://fileinfo.com/extension/src) file/directory is beneficial in code development and/or production release. However, *jupyter notebook* requires *kernel restart* if any imported code file is changed in disc, for this frequently changing functions can be defined in this section.\n",
    "\n",
    "**Getting Started** with **`PYTHONPATH`**\n",
    "\n",
    "One must know what are [Environment Variable](https://medium.com/chingu/an-introduction-to-environment-variables-and-how-to-use-them-f602f66d15fa) and how to call/use them in your choice of programming language. Note that an environment variable is *case sensitive* in all operating systems (except windows, since DOS is not case sensitive). Generally, we can access environment variables from terminal/shell/command prompt as:\n",
    "\n",
    "```shell\n",
    "# macOS/*nix\n",
    "echo $VARNAME\n",
    "\n",
    "# windows\n",
    "echo %VARNAME%\n",
    "```\n",
    "\n",
    "Once you've setup your system with [`PYTHONPATH`](https://bic-berkeley.github.io/psych-214-fall-2016/using_pythonpath.html) as per [*python documentation*](https://docs.python.org/3/using/cmdline.html#envvar-PYTHONPATH) is an important directory where any `import` statements looks for based on their order of importance. If a source code/module is not available check necessary environment variables and/or ask the administrator for the source files.\n",
    "\n",
    "Most of the utility functions available in `PYTHONPATH` is tracked and maintained in [GIST.GitHub/ZenithClown](https://gist.github.com/ZenithClown) which provides detailed documentation and code snippets/example use cases etc. For more information, and category wise module check [github](https://github.com/ZenithClown/ZenithClown) repository."
   ]
  },
  {
   "cell_type": "code",
   "execution_count": 7,
   "id": "0baaf3e5",
   "metadata": {
    "ExecuteTime": {
     "end_time": "2025-09-22T07:16:07.591557Z",
     "start_time": "2025-09-22T07:16:06.447992Z"
    }
   },
   "outputs": [],
   "source": [
    "sys.path.append(os.path.join(\"..\")) # base of the repository\n",
    "\n",
    "# methods/class objects to define graph components\n",
    "from routicle.components import edges, nodes\n",
    "from routicle.utils.generator import create_nodes\n",
    "\n",
    "# methods/class objects for core functionalities of scm & logistics applications\n",
    "import routicle.core.networkx as rnx"
   ]
  },
  {
   "cell_type": "code",
   "execution_count": 8,
   "id": "2970cfce",
   "metadata": {
    "ExecuteTime": {
     "end_time": "2025-09-22T07:16:07.623099Z",
     "start_time": "2025-09-22T07:16:07.606453Z"
    },
    "code_folding": [
     0
    ]
   },
   "outputs": [],
   "source": [
    "def unique_keys(*args : Iterable[dict]) -> bool:\n",
    "    ndicts = len(args) # number of dictionary to validate\n",
    "\n",
    "    keys = []\n",
    "    for di in TQ(args, desc = \"Getting All Keys\"):\n",
    "        keys += list(di.keys())\n",
    "\n",
    "    return len(keys) == len(set(keys))"
   ]
  },
  {
   "cell_type": "markdown",
   "id": "3e49dbbc",
   "metadata": {},
   "source": [
    "## Global Argument(s)\n",
    "\n",
    "The global arguments are *notebook* specific, however they may also be extended to external libraries and functions on import. The *boilerplate* provides a basic ML directory structure which contains a directory for `data` and a separate directory for `output`. In addition, a separate directory (`data/processed`) is created to save processed dataset such that preprocessing can be avoided.\n",
    "\n",
    "### Graph Components\n",
    "\n",
    "In graph theory, a network is a structure consisting of nodes (or vertices) representing objects and edges (or links) representing connections or relationships between them. These abstract structures are used to model and analyze real-world systems, such as the Internet, social relationships, and biological processes. Networks can be undirected (where edges are bidirectional) or directed (where edges have a specific direction), and can also be weighted with numerical values to represent the strength or cost of the connection.\n",
    "\n",
    "The module focuses on supply chain problem - like share of business optimization, inventory planning, etc. using different graph theory and shortest path detection algorithm like `Dijkstra/A*` which are the core components. A component is always an instance of `instance(<object>, routicle.components.base.BaseComponent)` class."
   ]
  },
  {
   "cell_type": "code",
   "execution_count": 9,
   "id": "69596678",
   "metadata": {
    "ExecuteTime": {
     "end_time": "2025-09-22T07:16:07.638496Z",
     "start_time": "2025-09-22T07:16:07.633309Z"
    }
   },
   "outputs": [],
   "source": [
    "# let's consider a network of ports, plants, vendors and warehouses\n",
    "N_PORTS, N_PLANTS, N_VENDORS, N_WAREHOUSES = 2, 7, 3, 4"
   ]
  },
  {
   "cell_type": "markdown",
   "id": "2dc10382",
   "metadata": {},
   "source": [
    "### Dummy Network Builder\n",
    "\n",
    "Utility module is provided to create multiple nodes, etc. for testing and other validation purposes. Let's create a network with n-objects as defined above."
   ]
  },
  {
   "cell_type": "code",
   "execution_count": 10,
   "id": "bce93901",
   "metadata": {
    "ExecuteTime": {
     "end_time": "2025-09-22T07:16:07.746209Z",
     "start_time": "2025-09-22T07:16:07.645173Z"
    },
    "code_folding": []
   },
   "outputs": [
    {
     "data": {
      "application/vnd.jupyter.widget-view+json": {
       "model_id": "c5b5eb874fac47d988bca3c798189b88",
       "version_major": 2,
       "version_minor": 0
      },
      "text/plain": [
       "Getting All Keys:   0%|          | 0/4 [00:00<?, ?it/s]"
      ]
     },
     "metadata": {},
     "output_type": "display_data"
    }
   ],
   "source": [
    "# node type :: ports - v0.0.1.dev.0 default constraints are capacity\n",
    "ports = { node.name : node for node in list(create_nodes(N_PORTS, ntype = nodes.StorageUnits, prefix = \"L\")) }\n",
    "\n",
    "# node type :: plants - v0.0.1.dev.0 constraints are rate, demand and default capacity\n",
    "plants = {\n",
    "    node.name : node for node in list(create_nodes(\n",
    "        N_PLANTS, ntype = nodes.ManufacturingUnits, prefix = \"P\",\n",
    "        attributes = [dict(rate = 0, demand = random.randint(100, 1000))] * N_PLANTS\n",
    "    ))\n",
    "}\n",
    "\n",
    "# node type :: vendors - v0.0.1.dev.0 default constraints are capacity\n",
    "vendors = {\n",
    "    node.name : node for node in list(create_nodes(\n",
    "        N_VENDORS, ntype = nodes.SupplyPoints, prefix = \"V\",\n",
    "        attributes = [dict(minorder = random.randint(0, 100), maxcapacity = random.randint(500, 1000)) for _ in range(N_VENDORS)]\n",
    "    ))\n",
    "}\n",
    "\n",
    "# node type :: warehouses - v0.0.1.dev.0 default constraints are capacity\n",
    "warehouses = { node.name : node for node in list(create_nodes(N_WAREHOUSES, ntype = nodes.StorageUnits, prefix = \"W\")) }\n",
    "\n",
    "# all nodes are packed into a single iterable json, do not overlap names\n",
    "assert unique_keys(ports, plants, vendors, warehouses), \"Unique Key Error in D-Nodes.\"\n",
    "dnodes = {**ports, **plants, **vendors, **warehouses}\n",
    "\n",
    "# all the edges are packed into a single iterable json, this should not overlap\n",
    "dedges = {\n",
    "    (dnodes[u].name, dnodes[v].name) : edges.TimeCostEdge(\n",
    "        cidx = str(UUIDx()),\n",
    "        name = f\"{dnodes[u].name} --> {dnodes[v].name}\",\n",
    "        unode = dnodes[u], vnode = dnodes[v],\n",
    "        cost = round(random.random() * random.randint(1, 10), 2),\n",
    "        time = round(random.random() * random.randint(1, 10), 2)\n",
    "    ) for (u, v) in [\n",
    "        # edges from warehouse to plants::\n",
    "        (\"W0\", \"P1\"), (\"W0\", \"P3\"), (\"W0\", \"P6\"),\n",
    "        (\"W1\", \"P1\"), (\"W1\", \"P2\"), (\"W1\", \"P3\"),\n",
    "        (\"W2\", \"P2\"), (\"W2\", \"P5\"),\n",
    "        (\"W3\", \"P0\"), (\"W3\", \"P3\"), (\"W3\", \"P4\"), (\"W3\", \"P5\"),\n",
    "\n",
    "        # edges from ports to warehouses::\n",
    "        (\"L0\", \"W0\"), (\"L0\", \"W1\"), (\"L0\", \"W2\"),\n",
    "        (\"L1\", \"W0\"), (\"L1\", \"W1\"), (\"L1\", \"W2\"), (\"L1\", \"W3\"),\n",
    "\n",
    "        # edges from ports and plants::\n",
    "        (\"L0\", \"W0\"), (\"L0\", \"W1\"), (\"L0\", \"W2\"),\n",
    "        (\"L1\", \"W0\"), (\"L1\", \"W1\"), (\"L1\", \"W2\"), (\"L1\", \"W3\"),\n",
    "\n",
    "        # edges between a vendor with different entities::\n",
    "        # a local vendor can import to warehouse and a plant\n",
    "        (\"V0\", \"P0\"), (\"V0\", \"P1\"), (\"V0\", \"P3\"), (\"V0\", \"P5\"),\n",
    "        (\"V0\", \"P0\"), (\"V0\", \"P1\"), (\"V0\", \"P3\"), (\"V0\", \"P5\"),\n",
    "        (\"V1\", \"P0\"), (\"V1\", \"P2\"), (\"V1\", \"P3\"), (\"V1\", \"P4\"), (\"V1\", \"P6\"),\n",
    "        (\"V1\", \"W0\"), (\"V1\", \"W1\"), (\"V1\", \"W2\"), (\"V1\", \"W3\"),\n",
    "        # a import vendor can deliver directly to a port, or others\n",
    "        (\"V2\", \"L0\"), (\"V2\", \"L1\")\n",
    "    ]\n",
    "}"
   ]
  },
  {
   "cell_type": "code",
   "execution_count": 11,
   "id": "d46ead04",
   "metadata": {
    "ExecuteTime": {
     "end_time": "2025-09-22T07:16:07.761951Z",
     "start_time": "2025-09-22T07:16:07.753213Z"
    }
   },
   "outputs": [],
   "source": [
    "network = rnx.nxGraph(G = nx.DiGraph(), dnodes = dnodes, dedges = dedges)"
   ]
  },
  {
   "cell_type": "code",
   "execution_count": 13,
   "id": "435bb7e1",
   "metadata": {
    "ExecuteTime": {
     "end_time": "2025-09-22T06:56:47.357668Z",
     "start_time": "2025-09-22T06:56:44.811469Z"
    },
    "scrolled": false
   },
   "outputs": [],
   "source": [
    "fig = gv.d3(network.G, show_menu = True, show_node_image = True)\n",
    "# fig.display() # or view `inline = True`"
   ]
  },
  {
   "cell_type": "markdown",
   "id": "fa4c65d7",
   "metadata": {},
   "source": [
    "#### Feature(s) of `nxGraph`\n",
    "\n",
    "Typical methods of graphs are wrapped inside the `rnx.nxGraph` for forward integration."
   ]
  },
  {
   "cell_type": "code",
   "execution_count": 13,
   "id": "89dcda30",
   "metadata": {
    "ExecuteTime": {
     "end_time": "2025-09-22T06:49:04.858340Z",
     "start_time": "2025-09-22T06:49:04.830053Z"
    }
   },
   "outputs": [
    {
     "name": "stdout",
     "output_type": "stream",
     "text": [
      "Get a dNode Object: {\n",
      "  \"name\": \"P0\",\n",
      "  \"cidx\": \"P0\",\n",
      "  \"image\": \"../assets/icons/conveyor.png\",\n",
      "  \"mincapacity\": 0.0,\n",
      "  \"maxcapacity\": Infinity,\n",
      "  \"rate\": 0.0,\n",
      "  \"demand\": 529.0\n",
      "}\n",
      "\n",
      "Get a dEdge Object: {\n",
      "  \"name\": \"V2 --> L0\",\n",
      "  \"cidx\": \"94d90d96-0070-458c-99a7-ada6bc99ebbf\",\n",
      "  \"unode\": \"name='V2' cidx='V2' image='../assets/icons/vendor.png' mincapacity=0.0 maxcapacity=961.0 moq=0.0 packsize=1.0 reliability=1.0 minorder=28.0\",\n",
      "  \"vnode\": \"name='L0' cidx='L0' image='../assets/icons/warehouse.png' mincapacity=0.0 maxcapacity=inf\",\n",
      "  \"time\": 3.1,\n",
      "  \"cost\": 2.49\n",
      "}\n"
     ]
    }
   ],
   "source": [
    "# inspect any graph component and return underlying dnode/dedge by ``name`` atribute, which must be defined\n",
    "print(\"Get a dNode Object:\", json.dumps(dict(network.inspect(\"P0\")), default = str, indent = 2), end = \"\\n\\n\") # return a node, default component\n",
    "print(\"Get a dEdge Object:\", json.dumps(dict(network.inspect((\"V2\", \"L0\"), component = \"edge\")), default = str, indent = 2))"
   ]
  },
  {
   "cell_type": "code",
   "execution_count": 15,
   "id": "157a95b9",
   "metadata": {
    "ExecuteTime": {
     "end_time": "2025-09-22T06:49:21.906626Z",
     "start_time": "2025-09-22T06:49:21.265677Z"
    }
   },
   "outputs": [
    {
     "data": {
      "text/plain": [
       "TimeCostEdge(name='V2 --> L0', cidx='94d90d96-0070-458c-99a7-ada6bc99ebbf', unode=SupplyPoints(name='V2', cidx='V2', image='../assets/icons/vendor.png', mincapacity=0.0, maxcapacity=961.0, moq=0.0, packsize=1.0, reliability=1.0, minorder=28.0), vnode=StorageUnits(name='L0', cidx='L0', image='../assets/icons/warehouse.png', mincapacity=0.0, maxcapacity=inf), time=3.1, cost=2.49)"
      ]
     },
     "execution_count": 15,
     "metadata": {},
     "output_type": "execute_result"
    }
   ],
   "source": [
    "# or get the component by the ``cidx`` attribute, if defined, which is recommended to always be unique\n",
    "# network.getbycidx(\"94d90d96-0070-458c-99a7-ada6bc99ebbf\", component = \"edge\")"
   ]
  },
  {
   "cell_type": "code",
   "execution_count": 16,
   "id": "41a15497",
   "metadata": {
    "ExecuteTime": {
     "end_time": "2025-09-22T06:49:24.973591Z",
     "start_time": "2025-09-22T06:49:22.994518Z"
    }
   },
   "outputs": [],
   "source": [
    "# alter the graph dynamically, reverse the edge/make the graph undirected\n",
    "# this returns a copy of the `network.G` attribute, without changing the underlying\n",
    "rG = network.alter(reverse = True, undirected = False)\n",
    "\n",
    "fig = gv.d3(rG, show_menu = True, show_node_image = True)\n",
    "# fig.display() # or view `inline = True`"
   ]
  },
  {
   "cell_type": "code",
   "execution_count": 15,
   "id": "4e26a62a",
   "metadata": {
    "ExecuteTime": {
     "end_time": "2025-09-22T06:58:03.006709Z",
     "start_time": "2025-09-22T06:58:02.990468Z"
    }
   },
   "outputs": [
    {
     "data": {
      "text/plain": [
       "('P0', 'P2', 'P3', 'P4', 'P6', 'W0', 'W1', 'W2', 'W3')"
      ]
     },
     "execution_count": 15,
     "metadata": {},
     "output_type": "execute_result"
    }
   ],
   "source": [
    "# easily get any adjacent nodes, for example, get vendor connections\n",
    "# i.e., the points where vendor can supply in the network\n",
    "network.adjacent_nodes(\"V1\")"
   ]
  },
  {
   "cell_type": "code",
   "execution_count": 19,
   "id": "5f36926a",
   "metadata": {
    "ExecuteTime": {
     "end_time": "2025-09-22T06:59:54.610748Z",
     "start_time": "2025-09-22T06:59:54.599752Z"
    }
   },
   "outputs": [
    {
     "name": "stdout",
     "output_type": "stream",
     "text": [
      "()\n"
     ]
    },
    {
     "data": {
      "text/plain": [
       "('V0', 'V1', 'W3')"
      ]
     },
     "execution_count": 19,
     "metadata": {},
     "output_type": "execute_result"
    }
   ],
   "source": [
    "# or, mix with graph .alter() method, for example\n",
    "print(network.adjacent_nodes(\"P0\"))\n",
    "\n",
    "# however, we can reverse the nature to get connected points\n",
    "# i.e., from where supply is available to a plant\n",
    "network.adjacent_nodes(\"P0\", reverse = True)"
   ]
  },
  {
   "cell_type": "markdown",
   "id": "1614222e",
   "metadata": {},
   "source": [
    "### Paths Analysis"
   ]
  },
  {
   "cell_type": "code",
   "execution_count": 13,
   "id": "b6e2fb0c",
   "metadata": {
    "ExecuteTime": {
     "end_time": "2025-09-22T07:16:16.632017Z",
     "start_time": "2025-09-22T07:16:16.603809Z"
    },
    "collapsed": true
   },
   "outputs": [
    {
     "name": "stdout",
     "output_type": "stream",
     "text": [
      "All Connected Paths b/w Source & Target Node: {\n",
      "  \"paths\": {\n",
      "    \"nodes\": [\n",
      "      [\n",
      "        \"V1\",\n",
      "        \"P4\"\n",
      "      ],\n",
      "      [\n",
      "        \"V1\",\n",
      "        \"W3\",\n",
      "        \"P4\"\n",
      "      ]\n",
      "    ],\n",
      "    \"edges\": [\n",
      "      [\n",
      "        [\n",
      "          \"V1\",\n",
      "          \"P4\"\n",
      "        ]\n",
      "      ],\n",
      "      [\n",
      "        [\n",
      "          \"V1\",\n",
      "          \"W3\"\n",
      "        ],\n",
      "        [\n",
      "          \"W3\",\n",
      "          \"P4\"\n",
      "        ]\n",
      "      ]\n",
      "    ],\n",
      "    \"weights\": [\n",
      "      7.54,\n",
      "      0.07\n",
      "    ],\n",
      "    \"costs\": [\n",
      "      0.72,\n",
      "      0.72\n",
      "    ]\n",
      "  },\n",
      "  \"source\": \"V1\",\n",
      "  \"target\": \"P4\"\n",
      "}\n"
     ]
    }
   ],
   "source": [
    "source, target = dnodes[\"V1\"], dnodes[\"P4\"]\n",
    "print(\"All Connected Paths b/w Source & Target Node:\", json.dumps(network.getpaths(source = source, target = target, roundvalue = 2), indent = 2))"
   ]
  },
  {
   "cell_type": "code",
   "execution_count": 17,
   "id": "f3bfcd08",
   "metadata": {
    "ExecuteTime": {
     "end_time": "2025-09-22T07:17:50.477046Z",
     "start_time": "2025-09-22T07:17:50.459698Z"
    }
   },
   "outputs": [
    {
     "name": "stdout",
     "output_type": "stream",
     "text": [
      "Found 2 Paths from V1 to P4.\n",
      "  >> Costs (in sorted order)   : [0.72, 0.72]\n",
      "  >> Weights (in sorted order) : [7.54, 0.07]\n"
     ]
    }
   ],
   "source": [
    "paths = network.sortedpaths(source = source, target = target)[\"paths\"] # or, use .getpaths() to get the raw values, as above\n",
    "costs, weights = [list(map(lambda x : round(x, 2), paths[k])) for k in [\"costs\", \"weights\"]]\n",
    "\n",
    "print(f\"Found {len(costs)} Paths from {source.name} to {target.name}.\")\n",
    "print(f\"  >> Costs (in sorted order)   : {costs}\")\n",
    "print(f\"  >> Weights (in sorted order) : {weights}\")"
   ]
  },
  {
   "cell_type": "code",
   "execution_count": 18,
   "id": "258eabd0",
   "metadata": {
    "ExecuteTime": {
     "end_time": "2025-09-22T07:18:00.015577Z",
     "start_time": "2025-09-22T07:18:00.008170Z"
    }
   },
   "outputs": [
    {
     "name": "stdout",
     "output_type": "stream",
     "text": [
      "Traced Nodes   ::  [['V1', 'P4'], ['V1', 'W3', 'P4']]\n",
      "Resolved Edges ::  [[('V1', 'P4')], [('V1', 'W3'), ('W3', 'P4')]]\n"
     ]
    }
   ],
   "source": [
    "print(f\"Traced Nodes   :: \", paths[\"nodes\"])\n",
    "print(f\"Resolved Edges :: \", paths[\"edges\"])"
   ]
  },
  {
   "cell_type": "code",
   "execution_count": 20,
   "id": "0f6b6a3d",
   "metadata": {
    "ExecuteTime": {
     "end_time": "2025-09-22T07:18:53.869059Z",
     "start_time": "2025-09-22T07:18:51.355934Z"
    }
   },
   "outputs": [
    {
     "data": {
      "application/vnd.jupyter.widget-view+json": {
       "model_id": "3ba83a0160f2419797cf9c6a3991b78a",
       "version_major": 2,
       "version_minor": 0
      },
      "text/plain": [
       "Recreating Edges:   0%|          | 0/3 [00:00<?, ?it/s]"
      ]
     },
     "metadata": {},
     "output_type": "display_data"
    }
   ],
   "source": [
    "# we've found the paths, we can also display the graph and highlight graph\n",
    "# this is a destructive method, overrides the original graph by deleting and creating edge\n",
    "flatten = [ e for edge in paths[\"edges\"] for e in edge ]\n",
    "\n",
    "G = network.G # create a copy of the original graph\n",
    "for edge in TQ(flatten, desc = \"Recreating Edges\"):\n",
    "    current = dedges[edge] # lookup the original value\n",
    "    G.remove_edge(current.unode.name, current.vnode.name)\n",
    "\n",
    "    # okay, we update to a random color of choice\n",
    "    current._color = \"#C72828\"\n",
    "    G.add_edge(current.unode.name, current.vnode.name, **current.attributes)\n",
    "\n",
    "fig = gv.d3(G, show_menu = True, show_node_image = True)\n",
    "# fig.display() # or view `inline = True`"
   ]
  }
 ],
 "metadata": {
  "kernelspec": {
   "display_name": "TensorFlow CPU (v2.12.0)",
   "language": "python",
   "name": "tensorflow"
  },
  "language_info": {
   "codemirror_mode": {
    "name": "ipython",
    "version": 3
   },
   "file_extension": ".py",
   "mimetype": "text/x-python",
   "name": "python",
   "nbconvert_exporter": "python",
   "pygments_lexer": "ipython3",
   "version": "3.10.9"
  }
 },
 "nbformat": 4,
 "nbformat_minor": 5
}
